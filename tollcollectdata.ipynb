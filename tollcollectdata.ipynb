{
 "cells": [
  {
   "cell_type": "code",
   "execution_count": 4,
   "id": "cf290b3a",
   "metadata": {
    "pycharm": {
     "name": "#%%\n"
    }
   },
   "outputs": [
    {
     "ename": "ModuleNotFoundError",
     "evalue": "No module named 'haversine'",
     "output_type": "error",
     "traceback": [
      "\u001b[0;31m---------------------------------------------------------------------------\u001b[0m",
      "\u001b[0;31mModuleNotFoundError\u001b[0m                       Traceback (most recent call last)",
      "\u001b[0;32m/var/folders/q4/4rrmdx6d141d0hg_69729m2m0000gn/T/ipykernel_20025/685278998.py\u001b[0m in \u001b[0;36m<module>\u001b[0;34m\u001b[0m\n\u001b[1;32m      1\u001b[0m \u001b[0;32mimport\u001b[0m \u001b[0mpandas\u001b[0m \u001b[0;32mas\u001b[0m \u001b[0mpd\u001b[0m\u001b[0;34m\u001b[0m\u001b[0;34m\u001b[0m\u001b[0m\n\u001b[0;32m----> 2\u001b[0;31m \u001b[0;32mfrom\u001b[0m \u001b[0mhaversine\u001b[0m \u001b[0;32mimport\u001b[0m \u001b[0mhaversine\u001b[0m\u001b[0;34m\u001b[0m\u001b[0;34m\u001b[0m\u001b[0m\n\u001b[0m\u001b[1;32m      3\u001b[0m \u001b[0;34m\u001b[0m\u001b[0m\n\u001b[1;32m      4\u001b[0m \u001b[0mdataCoords\u001b[0m \u001b[0;34m=\u001b[0m \u001b[0mpd\u001b[0m\u001b[0;34m.\u001b[0m\u001b[0mread_csv\u001b[0m\u001b[0;34m(\u001b[0m\u001b[0;34m\"data/koordinaten.csv\"\u001b[0m\u001b[0;34m,\u001b[0m \u001b[0mdelimiter\u001b[0m\u001b[0;34m=\u001b[0m\u001b[0;34m';'\u001b[0m\u001b[0;34m)\u001b[0m\u001b[0;34m\u001b[0m\u001b[0;34m\u001b[0m\u001b[0m\n\u001b[1;32m      5\u001b[0m \u001b[0mreferenzCoords\u001b[0m \u001b[0;34m=\u001b[0m \u001b[0mpd\u001b[0m\u001b[0;34m.\u001b[0m\u001b[0mread_csv\u001b[0m\u001b[0;34m(\u001b[0m\u001b[0;34m\"data/ganzeFahrtReferenz.tcsv\"\u001b[0m\u001b[0;34m,\u001b[0m \u001b[0mdelimiter\u001b[0m\u001b[0;34m=\u001b[0m\u001b[0;34m';'\u001b[0m\u001b[0;34m)\u001b[0m\u001b[0;34m\u001b[0m\u001b[0;34m\u001b[0m\u001b[0m\n",
      "\u001b[0;31mModuleNotFoundError\u001b[0m: No module named 'haversine'"
     ]
    }
   ],
   "source": [
    "import pandas as pd\n",
    "from haversine import haversine\n",
    "\n",
    "dataCoords = pd.read_csv(\"data/koordinaten.csv\", delimiter=';')\n",
    "referenzCoords = pd.read_csv(\"data/ganzeFahrtReferenz.tcsv\", delimiter=';')\n",
    "\n",
    "# Format Anpassung bei \"TIME, Messstartpunkt wird gesetzt, und Index reset zu 0\n",
    "def sortdata(dataframe):\n",
    "    dataframe['TIME'] = dataframe['TIME'].str[:19]\n",
    "    dataframe = dataframe.loc[dataframe[\"TIME\"] > \"2022-12-28T08:36:19\"]\n",
    "    dataframe = dataframe.reset_index(drop=True)\n",
    "    return dataframe\n",
    "\n",
    "# Zeitüberlappung für genauen Messwert. Die Referenz \"TIME\" passt sich der von Toll-Now an\n",
    "def timefiltering(dataframe):\n",
    "    mask = dataframe[\"TIME\"].isin(tollnow[\"TIME\"])\n",
    "    dataframe = dataframe[mask]\n",
    "    dataframe = dataframe.reset_index(drop=True)\n",
    "    return dataframe\n",
    "\n",
    "\n",
    "tollnow = sortdata(dataCoords)\n",
    "referenzCoords = sortdata(referenzCoords)\n",
    "\n",
    "referenz = timefiltering(referenzCoords)\n",
    "\n",
    "# Erstelle Subset nur mit den Werten von LAT und LON\n",
    "tollNowSubset = tollnow.loc[:,[\"LAT\", \"LON\", \"TIME\"]]\n",
    "referenzSubset = referenz.loc[:,[\"LAT\", \"LON\", \"TIME\"]]\n",
    "\n",
    "def createPoint(row):\n",
    "    point = (row[\"LAT\"], row[\"LON\"])\n",
    "    return point\n",
    "\n",
    "# Wende die Methode createPoint() für jede Zeile in DF an und speicher den Punkt in einer neuen Spalte \n",
    "tollNowSubset[\"TollNow Point\"] = tollNowSubset.apply(createPoint, axis = 1)\n",
    "referenzSubset[\"Referenz Point\"] = referenzSubset.apply(createPoint, axis = 1)\n",
    "\n",
    "\n",
    "def haversineFormula(row):\n",
    "    result = haversine(row[\"TollNow Point\"], row[\"Referenz Point\"])*1000\n",
    "    return result\n",
    "   \n",
    "# Erstelle ein neues DF mit den Werten von tollNow und referenz    \n",
    "haversineDF = pd.merge(tollNowSubset, referenzSubset, on = \"TIME\")\n",
    "\n",
    "# Delete the LAT and LON columns \n",
    "haversineDF = haversineDF.drop(columns = [\"LAT_x\", \"LON_x\", \"LAT_y\", \"LON_y\"])\n",
    "\n",
    "# Wende Methode haversineFormula() für jede Zeile an, und speicher das Ergebnis in einer neuen Spalte ab \n",
    "haversineDF[\"Result\"] = haversineDF.apply(haversineFormula, axis = 1)\n",
    " \n",
    "haversineDF.to_csv('my_data.csv', index=False)\n",
    "\n",
    "haversineDF\n"
   ]
  },
  {
   "cell_type": "code",
   "execution_count": null,
   "id": "aa13a4ac",
   "metadata": {
    "pycharm": {
     "name": "#%%\n"
    }
   },
   "outputs": [],
   "source": [
    "import numpy as np\n",
    "\n",
    "def ortungsgenauigkeit(dataframe, quantileValue):\n",
    "    series = dataframe.loc[:, \"Result\"]\n",
    "    sortedSeries = series.sort_values()\n",
    "    quantile = np.quantile(sortedSeries, quantileValue)\n",
    "    return print(f\"Die Ortungsgenauigkeit bei einem {quantileValue}-Quantil beträgt: \", quantile)\n",
    "\n",
    "ortungsgenauigkeit(haversineDF, 0.99)\n",
    "\n",
    "series = haversineDF.loc[:, \"Result\"]\n",
    "sortedSeries = series.sort_values()"
   ]
  },
  {
   "cell_type": "code",
   "execution_count": null,
   "id": "fd2f18e2",
   "metadata": {
    "pycharm": {
     "name": "#%%\n"
    }
   },
   "outputs": [],
   "source": [
    "def maxminvalue(column, keyword):\n",
    "    if keyword == max:\n",
    "        return print(f\"Maximaler Wert in: {column}: \", haversineDF[f\"{column}\"].max())\n",
    "    elif keyword == min:\n",
    "        return print(f\"Minimaler Wert in: {column}: \", haversineDF[f\"{column}\"].min())\n",
    "\n",
    "\n",
    "def lenwithcondition(column, op, value):\n",
    "    if op == \"<\":\n",
    "        return print(f\"Länge von {column}: \", len(haversineDF[haversineDF[column] < value]))\n",
    "    elif op == \">\":\n",
    "        return print(f\"Länge von {column}: \", len(haversineDF[haversineDF[column] > value]))\n",
    "\n",
    "\n",
    "maxminvalue(\"Result\", min)\n",
    "\n",
    "# Anzahl von Crosstrackfehlern bei einer Abweichung von 13 Metern \n",
    "lenwithcondition(\"Result\", \">\", 13.0)"
   ]
  },
  {
   "cell_type": "code",
   "execution_count": null,
   "id": "7c835684",
   "metadata": {
    "pycharm": {
     "name": "#%%\n"
    }
   },
   "outputs": [],
   "source": [
    "# Erstelle neuen DataFrame für einzelne Spalte mit TollNow Coords und der Zeit\n",
    "distanceDF = pd.DataFrame()\n",
    "\n",
    "distanceDF[\"TollNow Point\"] = haversineDF.loc[:, \"TollNow Point\"]\n",
    "distanceDF[\"Date\"] = haversineDF.loc[:, \"Date\"]\n",
    "\n",
    "def applyHaversineOnPoints(dataframe):\n",
    "    for index in dataframe.index:\n",
    "        if index < len(dataframe) - 1:\n",
    "            point1 = dataframe[\"TollNow Point\"][index]\n",
    "            index += 1\n",
    "            point2 = dataframe[\"TollNow Point\"][index]\n",
    "            dataframe.loc[index, \"Haversine Distance\"] = haversine(point1, point2)    \n",
    "            index -= 1\n",
    "        else:\n",
    "            break\n",
    "        \n",
    "applyHaversineOnPoints(distanceDF)\n",
    "\n",
    "# Berechne mir die Summe aus den ganzen berechneten Abständen von den Punkten\n",
    "def getTotalDistance():\n",
    "    a = distanceDF[\"Haversine Distance\"].sum()\n",
    "    return a\n",
    "\n",
    "totalDistance = getTotalDistance()\n",
    "print(totalDistance, \"km Strecke, ist der LKW insgesamt gefahren\")\n",
    "\n",
    "\n",
    "def changeTypeOfTime(dataframe):\n",
    "    dataframe['Date'] = pd.to_datetime(dataframe['Date'])\n",
    "\n",
    "changeTypeOfTime(distanceDF)\n",
    "\n",
    "def getAvgSpeed():\n",
    "    # Differenz von letztem Zeitstempel und erstem\n",
    "    timePassed = haversineDF[\"Date\"].max()-haversineDF[\"Date\"].min()\n",
    "    # Wandle das TimeDelta Object timePassed erst in Sekunden und dann in reine Stunden um\n",
    "    hours = timePassed.total_seconds() / 3600\n",
    "    # Die klassische Zeitberchnungs Formel\n",
    "    a = totalDistance / hours\n",
    "    return a\n",
    "\n",
    "avgSpeed = getAvgSpeed()\n",
    "print(avgSpeed, \"km/h schnell, ist der LKW gefahren\")"
   ]
  },
  {
   "cell_type": "code",
   "execution_count": 2,
   "id": "2e4370e4",
   "metadata": {
    "pycharm": {
     "name": "#%%\n"
    }
   },
   "outputs": [],
   "source": [
    "import pandas as pd\n",
    "from haversine import haversine\n",
    "\n",
    "\n",
    "\n",
    "\n",
    "dataCoords = pd.read_csv(\"data/koordinaten.csv\", delimiter=';')\n",
    "\n",
    "dataCoords = dataCoords.drop(columns = [\"TIME\", \"DIRECTION\", \"SPEED\", \"TOP\"])\n",
    "\n",
    "dataCoords.to_csv(\"myCoords.csv\", index = False)\n"
   ]
  }
 ],
 "metadata": {
  "kernelspec": {
   "display_name": "Python 3 (ipykernel)",
   "language": "python",
   "name": "python3"
  },
  "language_info": {
   "codemirror_mode": {
    "name": "ipython",
    "version": 3
   },
   "file_extension": ".py",
   "mimetype": "text/x-python",
   "name": "python",
   "nbconvert_exporter": "python",
   "pygments_lexer": "ipython3",
   "version": "3.9.7"
  }
 },
 "nbformat": 4,
 "nbformat_minor": 5
}
